{
 "cells": [
  {
   "cell_type": "code",
   "execution_count": 2,
   "metadata": {},
   "outputs": [
    {
     "name": "stdout",
     "output_type": "stream",
     "text": [
      "Os seguintes produtos não existem: {np.int64(9280), np.int64(2532), np.int64(5892), np.int64(5833), np.int64(8234), np.int64(6637), np.int64(3791), np.int64(4304), np.int64(7055), np.int64(3762), np.int64(628), np.int64(6134), np.int64(1945), np.int64(5306), np.int64(2939), np.int64(6908), np.int64(8606)}\n"
     ]
    }
   ],
   "source": [
    "import pandas as pd\n",
    "\n",
    "# Este script verifica se os produtos que você está tentando inserir em uma tabela de transações existem em uma tabela de produtos.\n",
    "# Carregar os dados dos arquivos CSV\n",
    "# Supondo que você tenha um CSV com os produtos que você está tentando inserir\n",
    "caminho_csv_transacoes = f'../final_data/transacoes_final.csv'\n",
    "caminho_csv_produtos = f'../final_data/produtos_final.csv'\n",
    "\n",
    "df_transacoes_inserir = pd.read_csv(caminho_csv_transacoes)  # CSV com os IDs que você está tentando inserir\n",
    "df_produtos_existentes = pd.read_csv(caminho_csv_produtos)  # CSV com os IDs de produtos existentes\n",
    "\n",
    "# Supondo que os CSVs tenham uma coluna chamada 'id_produto'\n",
    "ids_transacoes_inserir = df_transacoes_inserir['id_produto'].unique()  # IDs que você está tentando inserir\n",
    "ids_existentes = df_produtos_existentes['id_produto'].unique()  # IDs que já existem\n",
    "\n",
    "# Identificar produtos que não existem\n",
    "produtos_faltantes = set(ids_transacoes_inserir) - set(ids_existentes)\n",
    "\n",
    "if produtos_faltantes:\n",
    "    print(f\"Os seguintes produtos não existem: {produtos_faltantes}\")\n",
    "else:\n",
    "    print(\"Todos os produtos existem. Você pode prosseguir com a inserção das transações.\")\n"
   ]
  },
  {
   "cell_type": "code",
   "execution_count": 4,
   "metadata": {},
   "outputs": [
    {
     "name": "stdout",
     "output_type": "stream",
     "text": [
      "Transações filtradas (apenas com produtos existentes):\n",
      "         id_transacao  id_cliente  id_produto  quantidade       data_transacao\n",
      "0                   0       56892        2918           3  2023-05-25 22:44:59\n",
      "1                   1       57295        8889           4  2022-07-27 07:15:08\n",
      "2                   2       35364        4007           1  2020-01-29 06:56:21\n",
      "3                   3       62575         915           3  2021-10-17 14:47:41\n",
      "4                   4       89255        6966           1  2021-05-28 00:08:16\n",
      "...               ...         ...         ...         ...                  ...\n",
      "2999995       2999995       16092        7921           0  2020-11-22 23:11:59\n",
      "2999996       2999996       16370        6694           7  2024-05-17 20:46:03\n",
      "2999997       2999997       49313        7696           8  2021-10-13 16:07:39\n",
      "2999998       2999998       94586        1912           4  2024-04-24 03:11:38\n",
      "2999999       2999999       96259        5256           0  2023-12-12 08:54:26\n",
      "\n",
      "[2994805 rows x 5 columns]\n",
      "Os seguintes IDs de produtos foram removidos: {9280, 2532, 5892, 5833, 8234, 6637, 3791, 4304, 7055, 3762, 628, 6134, 1945, 5306, 2939, 6908, 8606}\n"
     ]
    }
   ],
   "source": [
    "import pandas as pd\n",
    "\n",
    "# Carregar os dados dos arquivos CSV\n",
    "caminho_csv_transacoes = '../final_data/transacoes_final.csv'\n",
    "caminho_csv_produtos = '../final_data/produtos_final.csv'\n",
    "\n",
    "df_transacoes_inserir = pd.read_csv(caminho_csv_transacoes)  # CSV com os IDs que você está tentando inserir\n",
    "df_produtos_existentes = pd.read_csv(caminho_csv_produtos)  # CSV com os IDs de produtos existentes\n",
    "\n",
    "# Supondo que os CSVs tenham uma coluna chamada 'id_produto'\n",
    "ids_existentes = df_produtos_existentes['id_produto'].unique()  # IDs que já existem\n",
    "\n",
    "# Filtrar o DataFrame de transações para manter apenas os IDs que existem\n",
    "df_transacoes_filtradas = df_transacoes_inserir[df_transacoes_inserir['id_produto'].isin(ids_existentes)]\n",
    "\n",
    "# Identificar os IDs que foram removidos\n",
    "ids_removidos = set(df_transacoes_inserir['id_produto']) - set(df_transacoes_filtradas['id_produto'])\n",
    "\n",
    "# Exibir o DataFrame filtrado\n",
    "print(\"Transações filtradas (apenas com produtos existentes):\")\n",
    "print(df_transacoes_filtradas)\n",
    "\n",
    "# Exibir os IDs que foram removidos\n",
    "if ids_removidos:\n",
    "    print(f\"Os seguintes IDs de produtos foram removidos: {ids_removidos}\")\n",
    "else:\n",
    "    print(\"Nenhum ID de produto foi removido.\")\n"
   ]
  }
 ],
 "metadata": {
  "kernelspec": {
   "display_name": ".venv",
   "language": "python",
   "name": "python3"
  },
  "language_info": {
   "codemirror_mode": {
    "name": "ipython",
    "version": 3
   },
   "file_extension": ".py",
   "mimetype": "text/x-python",
   "name": "python",
   "nbconvert_exporter": "python",
   "pygments_lexer": "ipython3",
   "version": "3.12.2"
  }
 },
 "nbformat": 4,
 "nbformat_minor": 2
}
