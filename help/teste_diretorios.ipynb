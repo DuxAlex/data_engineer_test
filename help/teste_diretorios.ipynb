{
 "cells": [
  {
   "cell_type": "code",
   "execution_count": null,
   "metadata": {},
   "outputs": [
    {
     "ename": "FileNotFoundError",
     "evalue": "[Errno 2] No such file or directory: 'ETL/raw_data'",
     "output_type": "error",
     "traceback": [
      "\u001b[0;31m---------------------------------------------------------------------------\u001b[0m",
      "\u001b[0;31mFileNotFoundError\u001b[0m                         Traceback (most recent call last)",
      "Cell \u001b[0;32mIn[8], line 10\u001b[0m\n\u001b[1;32m      7\u001b[0m caminho_arquivo \u001b[38;5;241m=\u001b[39m \u001b[38;5;124m'\u001b[39m\u001b[38;5;124mETL/raw_data\u001b[39m\u001b[38;5;124m'\u001b[39m\n\u001b[1;32m      9\u001b[0m \u001b[38;5;66;03m# Obtendo informações sobre o arquivo\u001b[39;00m\n\u001b[0;32m---> 10\u001b[0m info \u001b[38;5;241m=\u001b[39m \u001b[43mos\u001b[49m\u001b[38;5;241;43m.\u001b[39;49m\u001b[43mstat\u001b[49m\u001b[43m(\u001b[49m\u001b[43mcaminho_arquivo\u001b[49m\u001b[43m)\u001b[49m\n\u001b[1;32m     12\u001b[0m \u001b[38;5;66;03m# Obtendo permissões\u001b[39;00m\n\u001b[1;32m     13\u001b[0m permissoes \u001b[38;5;241m=\u001b[39m stat\u001b[38;5;241m.\u001b[39mfilemode(info\u001b[38;5;241m.\u001b[39mst_mode)\n",
      "\u001b[0;31mFileNotFoundError\u001b[0m: [Errno 2] No such file or directory: 'ETL/raw_data'"
     ]
    }
   ],
   "source": [
    "import os\n",
    "import stat\n",
    "import getpass\n",
    "import grp\n",
    "\n",
    "# Caminho do arquivo\n",
    "caminho_arquivo = 'ETL/raw_data/cliente.csv'\n",
    "\n",
    "# Obtendo informações sobre o arquivo\n",
    "info = os.stat(caminho_arquivo)\n",
    "\n",
    "# Obtendo permissões\n",
    "permissoes = stat.filemode(info.st_mode)\n",
    "usuario = info.st_uid\n",
    "grupo = info.st_gid\n",
    "\n",
    "print(f\"Permissões: {permissoes}\")\n",
    "print(f\"ID do Usuário: {usuario}\")\n",
    "print(f\"ID do Grupo: {grupo}\")\n",
    "\n",
    "#verificar usuário atual\n",
    "\n",
    "usuario_atual = getpass.getuser()\n",
    "print(f\"Usuário atual: {usuario_atual}\")\n",
    "\n",
    "# Obtendo o ID do usuário atual\n",
    "uid = os.getuid()\n",
    "\n",
    "# Obtendo grupos do usuário\n",
    "grupos = [g.gr_name for g in grp.getgrall() if uid in g.gr_mem or g.gr_gid == os.getgid()]\n",
    "\n",
    "print(f\"Grupos do usuário {usuario_atual}: {grupos}\")\n",
    "\n",
    "#verificar permissões do diretório\n",
    "# Caminho do diretório\n",
    "caminho_diretorio = '../raw_data'\n",
    "\n",
    "# Obtendo informações sobre o diretório\n",
    "info_diretorio = os.stat(caminho_diretorio)\n",
    "\n",
    "# Obtendo permissões\n",
    "permissoes_diretorio = stat.filemode(info_diretorio.st_mode)\n",
    "\n",
    "print(f\"Permissões do diretório: {permissoes_diretorio}\")"
   ]
  },
  {
   "cell_type": "code",
   "execution_count": null,
   "metadata": {},
   "outputs": [],
   "source": []
  }
 ],
 "metadata": {
  "kernelspec": {
   "display_name": ".venv",
   "language": "python",
   "name": "python3"
  },
  "language_info": {
   "codemirror_mode": {
    "name": "ipython",
    "version": 3
   },
   "file_extension": ".py",
   "mimetype": "text/x-python",
   "name": "python",
   "nbconvert_exporter": "python",
   "pygments_lexer": "ipython3",
   "version": "3.12.2"
  }
 },
 "nbformat": 4,
 "nbformat_minor": 2
}
