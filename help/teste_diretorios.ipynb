{
 "cells": [
  {
   "cell_type": "code",
   "execution_count": 9,
   "metadata": {},
   "outputs": [
    {
     "name": "stdout",
     "output_type": "stream",
     "text": [
      "Permissões: -rw-rw-r--\n",
      "ID do Usuário: 1000\n",
      "ID do Grupo: 1000\n",
      "Usuário atual: alexsouza\n",
      "Grupos do usuário alexsouza: ['alexsouza']\n",
      "Permissões do diretório: drwxrwxr-x\n"
     ]
    }
   ],
   "source": [
    "import os\n",
    "import stat\n",
    "import getpass\n",
    "import grp\n",
    "\n",
    "# Caminho do arquivo\n",
    "caminho_arquivo = '../raw_data/cliente.csv'\n",
    "\n",
    "# Obtendo informações sobre o arquivo\n",
    "info = os.stat(caminho_arquivo)\n",
    "\n",
    "# Obtendo permissões\n",
    "permissoes = stat.filemode(info.st_mode)\n",
    "usuario = info.st_uid\n",
    "grupo = info.st_gid\n",
    "\n",
    "print(f\"Permissões: {permissoes}\")\n",
    "print(f\"ID do Usuário: {usuario}\")\n",
    "print(f\"ID do Grupo: {grupo}\")\n",
    "\n",
    "#verificar usuário atual\n",
    "\n",
    "usuario_atual = getpass.getuser()\n",
    "print(f\"Usuário atual: {usuario_atual}\")\n",
    "\n",
    "# Obtendo o ID do usuário atual\n",
    "uid = os.getuid()\n",
    "\n",
    "# Obtendo grupos do usuário\n",
    "grupos = [g.gr_name for g in grp.getgrall() if uid in g.gr_mem or g.gr_gid == os.getgid()]\n",
    "\n",
    "print(f\"Grupos do usuário {usuario_atual}: {grupos}\")\n",
    "\n",
    "#verificar permissões do diretório\n",
    "# Caminho do diretório\n",
    "caminho_diretorio = '../raw_data'\n",
    "\n",
    "# Obtendo informações sobre o diretório\n",
    "info_diretorio = os.stat(caminho_diretorio)\n",
    "\n",
    "# Obtendo permissões\n",
    "permissoes_diretorio = stat.filemode(info_diretorio.st_mode)\n",
    "\n",
    "print(f\"Permissões do diretório: {permissoes_diretorio}\")"
   ]
  },
  {
   "cell_type": "code",
   "execution_count": null,
   "metadata": {},
   "outputs": [],
   "source": []
  }
 ],
 "metadata": {
  "kernelspec": {
   "display_name": ".venv",
   "language": "python",
   "name": "python3"
  },
  "language_info": {
   "codemirror_mode": {
    "name": "ipython",
    "version": 3
   },
   "file_extension": ".py",
   "mimetype": "text/x-python",
   "name": "python",
   "nbconvert_exporter": "python",
   "pygments_lexer": "ipython3",
   "version": "3.12.2"
  }
 },
 "nbformat": 4,
 "nbformat_minor": 2
}
