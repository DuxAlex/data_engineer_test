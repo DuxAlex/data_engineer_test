{
 "cells": [
  {
   "cell_type": "code",
   "execution_count": 2,
   "metadata": {},
   "outputs": [
    {
     "name": "stdout",
     "output_type": "stream",
     "text": [
      "Conexão com o banco de dados estabelecida com sucesso!\n",
      "Conexão fechada.\n"
     ]
    }
   ],
   "source": [
    "import psycopg2\n",
    "from psycopg2 import OperationalError\n",
    "\n",
    "def test_connection():\n",
    "    \"\"\"Testa a conexão com o banco de dados PostgreSQL.\"\"\"\n",
    "    db_name = \"magazord\"\n",
    "    user = \"magazord_user\"\n",
    "    password = \"magazord\"\n",
    "    host = \"localhost\"  # ou o endereço do seu servidor\n",
    "    port = \"5432\"       # ou a porta que você está usando\n",
    "\n",
    "    try:\n",
    "        # Tenta estabelecer a conexão\n",
    "        connection = psycopg2.connect(\n",
    "            dbname=db_name,\n",
    "            user=user,\n",
    "            password=password,\n",
    "            host=host,\n",
    "            port=port\n",
    "        )\n",
    "        print(\"Conexão com o banco de dados estabelecida com sucesso!\")\n",
    "    except OperationalError as e:\n",
    "        print(f\"Erro ao conectar ao banco de dados: {e}\")\n",
    "    finally:\n",
    "        # Fecha a conexão se foi estabelecida\n",
    "        if 'connection' in locals() and connection:\n",
    "            connection.close()\n",
    "            print(\"Conexão fechada.\")\n",
    "\n",
    "if __name__ == \"__main__\":\n",
    "    test_connection()\n"
   ]
  }
 ],
 "metadata": {
  "kernelspec": {
   "display_name": ".venv",
   "language": "python",
   "name": "python3"
  },
  "language_info": {
   "codemirror_mode": {
    "name": "ipython",
    "version": 3
   },
   "file_extension": ".py",
   "mimetype": "text/x-python",
   "name": "python",
   "nbconvert_exporter": "python",
   "pygments_lexer": "ipython3",
   "version": "3.12.2"
  }
 },
 "nbformat": 4,
 "nbformat_minor": 2
}
