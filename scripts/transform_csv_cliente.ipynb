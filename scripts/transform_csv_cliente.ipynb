{
 "cells": [
  {
   "cell_type": "code",
   "execution_count": 3,
   "metadata": {},
   "outputs": [
    {
     "name": "stdout",
     "output_type": "stream",
     "text": [
      "Não há valores nulos no DataFrame.\n",
      "nome         0\n",
      "sobrenome    0\n",
      "email        0\n",
      "telefone     0\n",
      "id           0\n",
      "dtype: int64\n",
      "\n",
      "\n",
      "Empty DataFrame\n",
      "Columns: [nome, sobrenome, email, telefone, id]\n",
      "Index: []\n",
      "\n",
      "\n",
      "         nome  sobrenome  email  telefone     id\n",
      "0       False      False  False     False  False\n",
      "1       False      False  False     False  False\n",
      "2       False      False  False     False  False\n",
      "3       False      False  False     False  False\n",
      "4       False      False  False     False  False\n",
      "...       ...        ...    ...       ...    ...\n",
      "100782  False      False  False     False  False\n",
      "100783  False      False  False     False  False\n",
      "100784  False      False  False     False  False\n",
      "100785  False      False  False     False  False\n",
      "100786  False      False  False     False  False\n",
      "\n",
      "[100787 rows x 5 columns]\n"
     ]
    }
   ],
   "source": [
    "#verificar valores nulos no dataframe\n",
    "import pandas as pd\n",
    "\n",
    "caminho_csv = '../raw_data/cliente.csv'\n",
    "\n",
    "df_cliente = pd.read_csv(caminho_csv)\n",
    "#Verificar se a valores nulos \n",
    "if df_cliente.isnull().any().any():\n",
    "    print(\"O DataFrame contém valores nulos.\")\n",
    "else:\n",
    "    print(\"Não há valores nulos no DataFrame.\")\n",
    "\n",
    "#verificar a quantidade de valores nulos por coluna\n",
    "print(df_cliente.isnull().sum())\n",
    "print('\\n')\n",
    "#verificar a quantidade de valores nulos por linha\n",
    "print(df_cliente[df_cliente.isnull().any(axis=1)])\n",
    "print('\\n')\n",
    "#verificar se há valores nulos no dataframe inteiro\n",
    "print(df_cliente.isnull())\n",
    "\n"
   ]
  },
  {
   "cell_type": "code",
   "execution_count": 4,
   "metadata": {},
   "outputs": [
    {
     "name": "stdout",
     "output_type": "stream",
     "text": [
      "0         False\n",
      "1         False\n",
      "2         False\n",
      "3         False\n",
      "4         False\n",
      "          ...  \n",
      "100782    False\n",
      "100783    False\n",
      "100784    False\n",
      "100785    False\n",
      "100786    False\n",
      "Length: 100787, dtype: bool\n",
      "Empty DataFrame\n",
      "Columns: [nome, sobrenome, email, telefone, id]\n",
      "Index: []\n",
      "Empty DataFrame\n",
      "Columns: [nome, sobrenome, email, telefone, id]\n",
      "Index: []\n"
     ]
    }
   ],
   "source": [
    "#verificar arquivos duplicados\n",
    "print(df_cliente.duplicated())\n",
    "print(df_cliente[df_cliente.duplicated()])\n",
    "print(df_cliente[df_cliente.duplicated(keep=False)])\n"
   ]
  },
  {
   "cell_type": "code",
   "execution_count": 5,
   "metadata": {},
   "outputs": [
    {
     "name": "stdout",
     "output_type": "stream",
     "text": [
      "     nome sobrenome                     email        telefone  id\n",
      "0  Aaline      Zyon      AALINEZYON@gmail.com  (23) 8354-9059   1\n",
      "1   Aarao   Zuziane  AARAOZUZIANE@outlook.com  (18) 3183-4770   2\n",
      "2   Aaron      Zuzi       AARONZUZI@gmail.com  (22) 6077-6114   3\n",
      "3     Aba    Zuzete       ABAZUZETE@yahoo.com  (42) 2127-7981   4\n",
      "4   Abade    Zuzane     ABADEZUZANE@terra.com  (47) 5908-0457   5\n",
      "Arquivo salvo como: cliente_final.csv\n"
     ]
    }
   ],
   "source": [
    "#Transformar os dados para:\n",
    "#Normalizar nomes de clientes (capitalizar).\n",
    "#Criar uma nova tabela agregada com:\n",
    "#Receita total por cliente.\n",
    "#Número total de transações por cliente.\n",
    "#Produto mais comprado por cliente.\n",
    "#Carregar os dados transformados em um banco de dados final ou um data warehouse (PostgreSQL ou SQLite).\n",
    "\n",
    "\n",
    "from datetime import datetime\n",
    "import pandas as pd\n",
    "\n",
    "caminho_csv = '../raw_data/cliente.csv'\n",
    "\n",
    "df_cliente = pd.read_csv(caminho_csv)\n",
    "\n",
    "# Capitalizando o nome e sobrenome dos clientes no CSV cliente\n",
    "df_cliente['nome'] = df_cliente['nome'].str.title()\n",
    "df_cliente['sobrenome'] = df_cliente['sobrenome'].str.title()\n",
    "\n",
    "print(df_cliente.head())\n",
    "\n",
    "# Nome do arquivo de saída com data no formato pt-BR (dd/mm/yyyy)\n",
    "#data_atual = datetime.now().strftime('%d-%m-%Y')  # Formato: DD-MM-YYYY\n",
    "#nome_arquivo_saida = f'cliente_final_{data_atual}.csv'\n",
    "\n",
    "nome_arquivo_saida = f'cliente_final.csv'\n",
    "\n",
    "# Salvando o arquivo com o nome adequado\n",
    "df_cliente.to_csv(f'../final_data/{nome_arquivo_saida}', index=False)\n",
    "\n",
    "print(f\"Arquivo salvo como: {nome_arquivo_saida}\")\n"
   ]
  }
 ],
 "metadata": {
  "kernelspec": {
   "display_name": ".venv",
   "language": "python",
   "name": "python3"
  },
  "language_info": {
   "codemirror_mode": {
    "name": "ipython",
    "version": 3
   },
   "file_extension": ".py",
   "mimetype": "text/x-python",
   "name": "python",
   "nbconvert_exporter": "python",
   "pygments_lexer": "ipython3",
   "version": "3.12.2"
  }
 },
 "nbformat": 4,
 "nbformat_minor": 2
}
