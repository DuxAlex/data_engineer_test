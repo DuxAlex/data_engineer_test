{
 "cells": [
  {
   "cell_type": "code",
   "execution_count": null,
   "metadata": {},
   "outputs": [
    {
     "name": "stdout",
     "output_type": "stream",
     "text": [
      "Erro ao executar o script SQL: column \"data_transacao\" is of type date but expression is of type text\n",
      "LINE 2:                  SELECT id_cliente, id_produto, data_transac...\n",
      "                                                        ^\n",
      "HINT:  You will need to rewrite or cast the expression.\n",
      "QUERY:  INSERT INTO transacoes_particionada (id_cliente, id_produto, data_transacao)\n",
      "                 SELECT id_cliente, id_produto, data_transacao FROM transacoes\n",
      "CONTEXT:  PL/pgSQL function inline_code_block line 22 at EXECUTE\n",
      "\n"
     ]
    }
   ],
   "source": [
    "import psycopg2\n",
    "\n",
    "# Configurações do banco de dados\n",
    "DATABASE_TYPE = 'postgresql'\n",
    "USER = 'magazord_user'\n",
    "PASSWORD = 'magazord'\n",
    "HOST = 'localhost'\n",
    "PORT = '5432'\n",
    "DATABASE = 'magazord'\n",
    "\n",
    "# Função para executar os comandos do arquivo SQL\n",
    "def executar_script_sql(arquivo_sql):\n",
    "    try:\n",
    "        # Conectar ao banco de dados\n",
    "        conn = psycopg2.connect(\n",
    "            dbname=DATABASE,\n",
    "            user=USER,\n",
    "            password=PASSWORD,\n",
    "            host=HOST,\n",
    "            port=PORT\n",
    "        )\n",
    "        cursor = conn.cursor()\n",
    "\n",
    "        # Ler o conteúdo do arquivo SQL\n",
    "        with open(arquivo_sql, 'r') as file:\n",
    "            sql = file.read()\n",
    "\n",
    "        # Executar o script SQL\n",
    "        cursor.execute(sql)\n",
    "        conn.commit()\n",
    "        print(f\"Comandos do arquivo {arquivo_sql} executados com sucesso.\")\n",
    "\n",
    "        # Fechar a conexão\n",
    "        cursor.close()\n",
    "        conn.close()\n",
    "\n",
    "    except Exception as e:\n",
    "        print(f\"Erro ao executar o script SQL: {e}\")\n",
    "\n",
    "# Caminho do arquivo SQL\n",
    "arquivo_sql = '1_optimize_tabelas.sql'\n",
    "\n",
    "# Executar o script SQL\n",
    "executar_script_sql(arquivo_sql)\n"
   ]
  }
 ],
 "metadata": {
  "kernelspec": {
   "display_name": ".venv",
   "language": "python",
   "name": "python3"
  },
  "language_info": {
   "codemirror_mode": {
    "name": "ipython",
    "version": 3
   },
   "file_extension": ".py",
   "mimetype": "text/x-python",
   "name": "python",
   "nbconvert_exporter": "python",
   "pygments_lexer": "ipython3",
   "version": "3.12.2"
  }
 },
 "nbformat": 4,
 "nbformat_minor": 2
}
