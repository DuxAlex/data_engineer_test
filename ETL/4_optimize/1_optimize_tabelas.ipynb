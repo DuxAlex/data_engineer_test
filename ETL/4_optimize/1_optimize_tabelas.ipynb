{
 "cells": [
  {
   "cell_type": "code",
   "execution_count": 7,
   "metadata": {},
   "outputs": [
    {
     "name": "stdout",
     "output_type": "stream",
     "text": [
      "Erro ao executar o script SQL: relation \"transacoes_2020\" already exists\n",
      "\n",
      "Comandos do arquivo 1_2_create_indexes.sql executados com sucesso.\n"
     ]
    }
   ],
   "source": [
    "import psycopg2\n",
    "\n",
    "# Configurações do banco de dados\n",
    "DATABASE_TYPE = 'postgresql'\n",
    "USER = 'magazord_user'\n",
    "PASSWORD = 'magazord'\n",
    "HOST = 'localhost'\n",
    "PORT = '5432'\n",
    "DATABASE = 'magazord'\n",
    "\n",
    "# Função para executar os comandos do arquivo SQL\n",
    "def executar_script_sql(arquivo_sql):\n",
    "    try:\n",
    "        # Conectar ao banco de dados\n",
    "        conn = psycopg2.connect(\n",
    "            dbname=DATABASE,\n",
    "            user=USER,\n",
    "            password=PASSWORD,\n",
    "            host=HOST,\n",
    "            port=PORT\n",
    "        )\n",
    "        cursor = conn.cursor()\n",
    "\n",
    "        # Ler o conteúdo do arquivo SQL\n",
    "        with open(arquivo_sql, 'r') as file:\n",
    "            sql_commands = file.read().split(';')  # Divide os comandos por ponto e vírgula\n",
    "\n",
    "        # Executar cada comando SQL\n",
    "        for command in sql_commands:\n",
    "            command = command.strip()  # Remove espaços em branco\n",
    "            if command:  # Verifica se o comando não está vazio\n",
    "                cursor.execute(command)\n",
    "\n",
    "        conn.commit()\n",
    "        print(f\"Comandos do arquivo {arquivo_sql} executados com sucesso.\")\n",
    "\n",
    "        # Fechar a conexão\n",
    "        cursor.close()\n",
    "        conn.close()\n",
    "\n",
    "    except Exception as e:\n",
    "        print(f\"Erro ao executar o script SQL: {e}\")\n",
    "\n",
    "# Caminho dos arquivos SQL\n",
    "arquivo_sql_particionamento = '1_optimize_tabelas.sql'\n",
    "arquivo_sql_indexes = '1_2_create_indexes.sql'\n",
    "\n",
    "# Executar o script de particionamento\n",
    "executar_script_sql(arquivo_sql_particionamento)\n",
    "\n",
    "# Executar o script de criação dos índices\n",
    "executar_script_sql(arquivo_sql_indexes)\n"
   ]
  }
 ],
 "metadata": {
  "kernelspec": {
   "display_name": ".venv",
   "language": "python",
   "name": "python3"
  },
  "language_info": {
   "codemirror_mode": {
    "name": "ipython",
    "version": 3
   },
   "file_extension": ".py",
   "mimetype": "text/x-python",
   "name": "python",
   "nbconvert_exporter": "python",
   "pygments_lexer": "ipython3",
   "version": "3.12.1"
  }
 },
 "nbformat": 4,
 "nbformat_minor": 2
}
