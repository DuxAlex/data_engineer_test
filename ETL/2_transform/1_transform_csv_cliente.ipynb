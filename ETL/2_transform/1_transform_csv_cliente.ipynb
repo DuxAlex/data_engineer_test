{
 "cells": [
  {
   "cell_type": "code",
   "execution_count": null,
   "metadata": {},
   "outputs": [],
   "source": [
    "import pandas as pd\n",
    "\n",
    "caminho_csv = '../raw_data/cliente.csv'\n",
    "\n",
    "df_cliente = pd.read_csv(caminho_csv)\n",
    "\n",
    "\n",
    "#verificar valores nulos no dataframe\n",
    "\n",
    "#caso nescessário descomentar as linhas abaixo para verificar valores nulos\n",
    "#Verificar se a valores nulos \n",
    "# if df_cliente.isnull().any().any():\n",
    "#     print(\"O DataFrame contém valores nulos.\")\n",
    "# else:\n",
    "#     print(\"Não há valores nulos no DataFrame.\")\n",
    "\n",
    "# #verificar a quantidade de valores nulos por coluna\n",
    "# print(df_cliente.isnull().sum())\n",
    "# print('\\n')\n",
    "# #verificar a quantidade de valores nulos por linha\n",
    "# print(df_cliente[df_cliente.isnull().any(axis=1)])\n",
    "# print('\\n')\n",
    "# #verificar se há valores nulos no dataframe inteiro\n",
    "# print(df_cliente.isnull())\n",
    "\n"
   ]
  },
  {
   "cell_type": "code",
   "execution_count": 14,
   "metadata": {},
   "outputs": [],
   "source": [
    "# Caso nescessário descomente as linhas abaixo para verificar valores duplicados\n",
    "# verificar linhas duplicados\n",
    "# print(df_cliente.duplicated())\n",
    "# print(df_cliente[df_cliente.duplicated()])\n",
    "# print(df_cliente[df_cliente.duplicated(keep=False)])\n"
   ]
  },
  {
   "cell_type": "code",
   "execution_count": null,
   "metadata": {},
   "outputs": [
    {
     "name": "stdout",
     "output_type": "stream",
     "text": [
      "     nome sobrenome                     email        telefone  id\n",
      "0  Aaline      Zyon      AALINEZYON@gmail.com  (23) 8354-9059   1\n",
      "1   Aarao   Zuziane  AARAOZUZIANE@outlook.com  (18) 3183-4770   2\n",
      "2   Aaron      Zuzi       AARONZUZI@gmail.com  (22) 6077-6114   3\n",
      "3     Aba    Zuzete       ABAZUZETE@yahoo.com  (42) 2127-7981   4\n",
      "4   Abade    Zuzane     ABADEZUZANE@terra.com  (47) 5908-0457   5\n"
     ]
    }
   ],
   "source": [
    "#Transformar os dados para:\n",
    "#Normalizar nomes de clientes (capitalizar).\n",
    "from datetime import datetime\n",
    "\n",
    "# Capitalizando o nome e sobrenome dos clientes no CSV cliente\n",
    "df_cliente['nome'] = df_cliente['nome'].str.title()\n",
    "df_cliente['sobrenome'] = df_cliente['sobrenome'].str.title()\n",
    "\n",
    "#testar para ver se capitalizou corretamente\n",
    "print(df_cliente.head())\n",
    "\n"
   ]
  },
  {
   "cell_type": "code",
   "execution_count": 16,
   "metadata": {},
   "outputs": [
    {
     "name": "stdout",
     "output_type": "stream",
     "text": [
      "   id_cliente   nome_cliente                     email        telefone\n",
      "0           1    Aaline Zyon      AALINEZYON@gmail.com  (23) 8354-9059\n",
      "1           2  Aarao Zuziane  AARAOZUZIANE@outlook.com  (18) 3183-4770\n",
      "2           3     Aaron Zuzi       AARONZUZI@gmail.com  (22) 6077-6114\n",
      "3           4     Aba Zuzete       ABAZUZETE@yahoo.com  (42) 2127-7981\n",
      "4           5   Abade Zuzane     ABADEZUZANE@terra.com  (47) 5908-0457\n"
     ]
    }
   ],
   "source": [
    "# Transformar os dados no formato adequado para a inserção SQL\n",
    "# Criar a coluna 'nome_cliente' unindo 'nome' e 'sobrenome'\n",
    "\n",
    "df_cliente['nome_cliente'] = df_cliente['nome'] + ' ' + df_cliente['sobrenome']\n",
    "\n",
    "# Selecionar e renomear as colunas para corresponder à estrutura da tabela no banco\n",
    "df_cliente = df_cliente[['id', 'nome_cliente', 'email', 'telefone']].rename(columns={\n",
    "    'id': 'id_cliente',\n",
    "    'email': 'email',\n",
    "    'telefone': 'telefone'\n",
    "})\n",
    "\n",
    "# Salvar os dados transformados em um novo CSV\n",
    "print(df_cliente.head())\n"
   ]
  },
  {
   "cell_type": "code",
   "execution_count": 17,
   "metadata": {},
   "outputs": [
    {
     "name": "stdout",
     "output_type": "stream",
     "text": [
      "Arquivo sobrescrito como: cliente_final.csv\n"
     ]
    }
   ],
   "source": [
    "#Salvar o arquivo final\n",
    "# Definir o nome do arquivo de saída\n",
    "\n",
    "#Nome do arquivo de saída com data no formato pt-BR (dd/mm/yyyy)\n",
    "#data_atual = datetime.now().strftime('%d-%m-%Y')  # Formato: DD-MM-YYYY\n",
    "#nome_arquivo_saida = f'cliente_final_{data_atual}.csv'\n",
    "import os\n",
    "\n",
    "nome_arquivo_saida = f'cliente_final.csv'\n",
    "caminho_arquivo = f'../final_data/{nome_arquivo_saida}'\n",
    "\n",
    "# Salvando o arquivo com o nome adequado\n",
    "# Verificar se o arquivo já existe\n",
    "if os.path.exists(caminho_arquivo):\n",
    "    resposta = 's'  # Automático substituindo 's'  # Automático substituindo 's'  # Automático substituindo 's'  # Automático substituindo 's'  # Automático substituindo 's'  # Automático substituindo 's'  # Automático substituindo 's'  # Automático substituindo 's'  # Automático substituindo 's'  # Automático substituindo input(f\"O arquivo '{nome_arquivo_saida}' já existe. Deseja sobrescrevê-lo? (s/n): \")\n",
    "    if resposta.lower() != 's':\n",
    "        print(\"Operação cancelada. O arquivo não foi salvo.\")\n",
    "    else:\n",
    "        # Salvando o arquivo, sobrescrevendo o existente\n",
    "        df_cliente.to_csv(caminho_arquivo, index=False)\n",
    "        print(f\"Arquivo sobrescrito como: {nome_arquivo_saida}\")\n",
    "else:\n",
    "    # Salvando o arquivo normalmente\n",
    "    df_cliente.to_csv(caminho_arquivo, index=False)\n",
    "    print(f\"Arquivo salvo como: {nome_arquivo_saida}\")\n"
   ]
  }
 ],
 "metadata": {
  "kernelspec": {
   "display_name": ".venv",
   "language": "python",
   "name": "python3"
  },
  "language_info": {
   "codemirror_mode": {
    "name": "ipython",
    "version": 3
   },
   "file_extension": ".py",
   "mimetype": "text/x-python",
   "name": "python",
   "nbconvert_exporter": "python",
   "pygments_lexer": "ipython3",
   "version": "3.12.2"
  }
 },
 "nbformat": 4,
 "nbformat_minor": 2
}
