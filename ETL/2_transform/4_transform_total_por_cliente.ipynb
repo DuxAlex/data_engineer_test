{
 "cells": [
  {
   "cell_type": "code",
   "execution_count": 3,
   "metadata": {},
   "outputs": [
    {
     "name": "stdout",
     "output_type": "stream",
     "text": [
      "        id_cliente   receita  num_transacoes  produto_mais_comprado\n",
      "0                1   8023.82              30                   1112\n",
      "1                2   7884.75              38                   1106\n",
      "2                3  10362.73              32                   1621\n",
      "3                4  10030.43              41                   2332\n",
      "4                5   7724.77              36                   3354\n",
      "...            ...       ...             ...                    ...\n",
      "100781      100782  10126.96              35                   1715\n",
      "100782      100783   6334.31              30                   6194\n",
      "100783      100784   4264.52              21                    844\n",
      "100784      100785   6938.70              35                   5820\n",
      "100785      100786   5956.01              21                   2884\n",
      "\n",
      "[100786 rows x 4 columns]\n"
     ]
    }
   ],
   "source": [
    "import pandas as pd\n",
    "\n",
    "# Carregar os dados das transações\n",
    "caminho_csv_transacoes = '../final_data/transacoes_final.csv'\n",
    "df_transacoes = pd.read_csv(caminho_csv_transacoes)\n",
    "\n",
    "# Carregar os dados dos produtos para obter os preços\n",
    "caminho_csv_produtos = '../final_data/produtos_final.csv'\n",
    "df_produtos = pd.read_csv(caminho_csv_produtos)\n",
    "\n",
    "# 1. Unir os dados de transações com os preços dos produtos\n",
    "df_transacoes = df_transacoes.merge(df_produtos[['id_produto', 'preco']], on='id_produto', how='left')\n",
    "\n",
    "# 2. Calcular a receita total por cliente\n",
    "df_transacoes['receita'] = df_transacoes['quantidade'] * df_transacoes['preco']\n",
    "receita_por_cliente = df_transacoes.groupby('id_cliente')['receita'].sum().reset_index()\n",
    "\n",
    "# 3. Calcular o número total de transações por cliente\n",
    "transacoes_por_cliente = df_transacoes.groupby('id_cliente')['id_produto'].count().reset_index(name='num_transacoes')\n",
    "\n",
    "# 4. Encontrar o produto mais comprado por cliente\n",
    "# Primeiro, contar as compras por cliente e produto\n",
    "compras_por_cliente_produto = df_transacoes.groupby(['id_cliente', 'id_produto'])['quantidade'].sum().reset_index()\n",
    "\n",
    "# Encontrar o produto mais comprado por cliente\n",
    "produto_mais_comprado = compras_por_cliente_produto.loc[compras_por_cliente_produto.groupby('id_cliente')['quantidade'].idxmax()]\n",
    "\n",
    "# Renomear a coluna para facilitar a compreensão\n",
    "produto_mais_comprado = produto_mais_comprado.rename(columns={'id_produto': 'produto_mais_comprado'})\n",
    "\n",
    "# 5. Unir todas as informações em uma tabela agregada\n",
    "tabela_agregada = receita_por_cliente.merge(transacoes_por_cliente, on='id_cliente')\n",
    "tabela_agregada = tabela_agregada.merge(produto_mais_comprado[['id_cliente', 'produto_mais_comprado']], on='id_cliente')\n",
    "\n",
    "# Exibir a tabela agregada\n",
    "print(tabela_agregada)\n"
   ]
  },
  {
   "cell_type": "code",
   "execution_count": 4,
   "metadata": {},
   "outputs": [
    {
     "name": "stdout",
     "output_type": "stream",
     "text": [
      "Arquivo sobrescrito como: total_por_cliente_final.csv\n"
     ]
    }
   ],
   "source": [
    "#Salvar o arquivo final\n",
    "#Definir o nome do arquivo de saída\n",
    "\n",
    "#from datetime import datetime\n",
    "#Nome do arquivo de saída com data no formato pt-BR (dd/mm/yyyy)\n",
    "#data_atual = datetime.now().strftime('%d-%m-%Y')  # Formato: DD-MM-YYYY\n",
    "#nome_arquivo_saida = f'produtos_final_{data_atual}.csv'\n",
    "\n",
    "import os\n",
    "\n",
    "\n",
    "nome_arquivo_saida = f'total_por_cliente_final.csv'\n",
    "caminho_arquivo = f'../final_data/{nome_arquivo_saida}'\n",
    "\n",
    "# Salvando o arquivo com o nome adequado\n",
    "# Verificar se o arquivo já existe\n",
    "if os.path.exists(caminho_arquivo):\n",
    "    resposta = 's'  # Automático substituindo 's'  # Automático substituindo 's'  # Automático substituindo 's'  # Automático substituindo input(f\"O arquivo '{nome_arquivo_saida}' já existe. Deseja sobrescrevê-lo? (s/n): \")\n",
    "    if resposta.lower() != 's':\n",
    "        print(\"Operação cancelada. O arquivo não foi salvo.\")\n",
    "    else:\n",
    "        # Salvando o arquivo, sobrescrevendo o existente\n",
    "        tabela_agregada.to_csv(caminho_arquivo, index=False)\n",
    "        print(f\"Arquivo sobrescrito como: {nome_arquivo_saida}\")\n",
    "else:\n",
    "    # Salvando o arquivo normalmente\n",
    "    tabela_agregada.to_csv(caminho_arquivo, index=False)\n",
    "    print(f\"Arquivo salvo como: {nome_arquivo_saida}\")\n"
   ]
  }
 ],
 "metadata": {
  "kernelspec": {
   "display_name": ".venv",
   "language": "python",
   "name": "python3"
  },
  "language_info": {
   "codemirror_mode": {
    "name": "ipython",
    "version": 3
   },
   "file_extension": ".py",
   "mimetype": "text/x-python",
   "name": "python",
   "nbconvert_exporter": "python",
   "pygments_lexer": "ipython3",
   "version": "3.12.2"
  }
 },
 "nbformat": 4,
 "nbformat_minor": 2
}
