{
 "cells": [
  {
   "cell_type": "code",
   "execution_count": 2,
   "metadata": {},
   "outputs": [
    {
     "name": "stdout",
     "output_type": "stream",
     "text": [
      "O DataFrame contém valores nulos.\n",
      "id            0\n",
      "Nome         17\n",
      "Descrição     0\n",
      "Preço         0\n",
      "EAN           0\n",
      "dtype: int64\n",
      "\n",
      "\n",
      "        id Nome                                          Descrição  Preço  \\\n",
      "628    628  NaN  Always board population hand threat save task ...  71.45   \n",
      "1945  1945  NaN          Draw wife blue such half focus treatment.  13.38   \n",
      "2532  2532  NaN  Least once audience continue will kind method ...  31.39   \n",
      "2939  2939  NaN      Contain street fall much development act one.  59.10   \n",
      "3762  3762  NaN  Dark though heavy movement situation player re...  15.82   \n",
      "3791  3791  NaN  Become network enough blood past yeah word maj...  91.14   \n",
      "4304  4304  NaN  Stop avoid score meet mean attorney race time ...  83.13   \n",
      "5306  5306  NaN  Some carry those start seem rather business ch...  70.67   \n",
      "5833  5833  NaN  Sure bag throughout born without fish investment.  12.74   \n",
      "5892  5892  NaN                  Site get top join into pull four.  89.80   \n",
      "6134  6134  NaN  Easy know dog listen could kid usually itself ...  78.15   \n",
      "6637  6637  NaN  Mr many kitchen keep husband according few fin...  24.66   \n",
      "6908  6908  NaN  Politics early early evidence last region citi...  99.54   \n",
      "7055  7055  NaN         Movement president design form into shake.   5.77   \n",
      "8234  8234  NaN  Debate help good grow listen consumer old inte...  72.42   \n",
      "8606  8606  NaN  Local budget can how director north hear Democ...  81.29   \n",
      "9280  9280  NaN  Character true beat girl nor cup crime pick al...  87.36   \n",
      "\n",
      "                EAN  \n",
      "628   5385489465843  \n",
      "1945  2468839041843  \n",
      "2532  9816257593797  \n",
      "2939   655142043073  \n",
      "3762  3774271968945  \n",
      "3791  9104818004678  \n",
      "4304  6951530815838  \n",
      "5306   810485972590  \n",
      "5833  1120797106385  \n",
      "5892  5631666937147  \n",
      "6134  3696567925558  \n",
      "6637  8070802342396  \n",
      "6908  3257950095045  \n",
      "7055  7330226573556  \n",
      "8234  5207893452700  \n",
      "8606   213520412417  \n",
      "9280  9910400444940  \n",
      "\n",
      "\n",
      "         id   Nome  Descrição  Preço    EAN\n",
      "0     False  False      False  False  False\n",
      "1     False  False      False  False  False\n",
      "2     False  False      False  False  False\n",
      "3     False  False      False  False  False\n",
      "4     False  False      False  False  False\n",
      "...     ...    ...        ...    ...    ...\n",
      "9995  False  False      False  False  False\n",
      "9996  False  False      False  False  False\n",
      "9997  False  False      False  False  False\n",
      "9998  False  False      False  False  False\n",
      "9999  False  False      False  False  False\n",
      "\n",
      "[10000 rows x 5 columns]\n"
     ]
    }
   ],
   "source": [
    "#verificar valores nulos no dataframe\n",
    "import pandas as pd\n",
    "\n",
    "caminho_csv = '../raw_data/produtos.csv'\n",
    "\n",
    "df_produtos = pd.read_csv(caminho_csv)\n",
    "#Verificar se a valores nulos \n",
    "if df_produtos.isnull().any().any():\n",
    "    print(\"O DataFrame contém valores nulos.\")\n",
    "else:\n",
    "    print(\"Não há valores nulos no DataFrame.\")\n",
    "\n",
    "#verificar a quantidade de valores nulos por coluna\n",
    "print(df_produtos.isnull().sum())\n",
    "print('\\n')\n",
    "#verificar a quantidade de valores nulos por linha\n",
    "print(df_produtos[df_produtos.isnull().any(axis=1)])\n",
    "print('\\n')\n",
    "#verificar se há valores nulos no dataframe inteiro\n",
    "print(df_produtos.isnull())\n",
    "\n"
   ]
  },
  {
   "cell_type": "code",
   "execution_count": 3,
   "metadata": {},
   "outputs": [
    {
     "name": "stdout",
     "output_type": "stream",
     "text": [
      "0       False\n",
      "1       False\n",
      "2       False\n",
      "3       False\n",
      "4       False\n",
      "        ...  \n",
      "9995    False\n",
      "9996    False\n",
      "9997    False\n",
      "9998    False\n",
      "9999    False\n",
      "Length: 10000, dtype: bool\n",
      "Empty DataFrame\n",
      "Columns: [id, Nome, Descrição, Preço, EAN]\n",
      "Index: []\n",
      "Empty DataFrame\n",
      "Columns: [id, Nome, Descrição, Preço, EAN]\n",
      "Index: []\n"
     ]
    }
   ],
   "source": [
    "#verificar arquivos duplicados\n",
    "print(df_produtos.duplicated())\n",
    "print(df_produtos[df_produtos.duplicated()])\n",
    "print(df_produtos[df_produtos.duplicated(keep=False)])\n"
   ]
  },
  {
   "cell_type": "code",
   "execution_count": null,
   "metadata": {},
   "outputs": [
    {
     "name": "stdout",
     "output_type": "stream",
     "text": [
      "      id_produto nome_produto  preco\n",
      "0              0          Per  28.28\n",
      "1              1          Him  77.68\n",
      "2              2         Site  18.40\n",
      "3              3     Remember  61.30\n",
      "4              4   Conference  23.75\n",
      "...          ...          ...    ...\n",
      "9995        9995     Marriage  84.79\n",
      "9996        9996     Campaign  10.90\n",
      "9997        9997          Key  11.68\n",
      "9998        9998          Cup  68.90\n",
      "9999        9999     Personal  73.40\n",
      "\n",
      "[9983 rows x 3 columns]\n"
     ]
    }
   ],
   "source": [
    "# Carregar o DataFrame a partir do arquivo CSV\n",
    "df_produtos = pd.read_csv(caminho_csv)\n",
    "\n",
    "# 1. Remover linhas com valores duplicados\n",
    "df_produtos = df_produtos.drop_duplicates()\n",
    "\n",
    "# 2. Remover linhas com valores nulos\n",
    "df_produtos = df_produtos.dropna()\n",
    "\n",
    "# 3. Excluir as colunas 'descricao' e 'EAM'\n",
    "df_produtos = df_produtos.drop(columns=['Descrição', 'EAN'])\n",
    "\n",
    "# 4. Renomear as colunas 'id' e 'nome'\n",
    "df_produtos = df_produtos.rename(columns={'id': 'id_produto', 'Nome': 'nome_produto','Preço':'preco'})\n",
    "\n",
    "# 5. Transformar a coluna 'id_produto' para tipo INT\n",
    "df_produtos['id_produto'] = df_produtos['id_produto'].astype(int)\n",
    "\n",
    "# Exibir o DataFrame resultante\n",
    "print(df_produtos)\n"
   ]
  },
  {
   "cell_type": "code",
   "execution_count": null,
   "metadata": {},
   "outputs": [
    {
     "name": "stdout",
     "output_type": "stream",
     "text": [
      "Arquivo sobrescrito como: produtos_final.csv\n"
     ]
    }
   ],
   "source": [
    "#Salvar o arquivo final\n",
    "#Definir o nome do arquivo de saída\n",
    "\n",
    "#from datetime import datetime\n",
    "#Nome do arquivo de saída com data no formato pt-BR (dd/mm/yyyy)\n",
    "#data_atual = datetime.now().strftime('%d-%m-%Y')  # Formato: DD-MM-YYYY\n",
    "#nome_arquivo_saida = f'produtos_final_{data_atual}.csv'\n",
    "\n",
    "import os\n",
    "\n",
    "\n",
    "nome_arquivo_saida = f'produtos_final.csv'\n",
    "caminho_arquivo = f'../final_data/{nome_arquivo_saida}'\n",
    "\n",
    "# Salvando o arquivo com o nome adequado\n",
    "# Verificar se o arquivo já existe\n",
    "if os.path.exists(caminho_arquivo):\n",
    "    resposta = input(f\"O arquivo '{nome_arquivo_saida}' já existe. Deseja sobrescrevê-lo? (s/n): \")\n",
    "    if resposta.lower() != 's':\n",
    "        print(\"Operação cancelada. O arquivo não foi salvo.\")\n",
    "    else:\n",
    "        # Salvando o arquivo, sobrescrevendo o existente\n",
    "        df_produtos.to_csv(caminho_arquivo, index=False)\n",
    "        print(f\"Arquivo sobrescrito como: {nome_arquivo_saida}\")\n",
    "else:\n",
    "    # Salvando o arquivo normalmente\n",
    "    df_produtos.to_csv(caminho_arquivo, index=False)\n",
    "    print(f\"Arquivo salvo como: {nome_arquivo_saida}\")\n"
   ]
  }
 ],
 "metadata": {
  "kernelspec": {
   "display_name": ".venv",
   "language": "python",
   "name": "python3"
  },
  "language_info": {
   "codemirror_mode": {
    "name": "ipython",
    "version": 3
   },
   "file_extension": ".py",
   "mimetype": "text/x-python",
   "name": "python",
   "nbconvert_exporter": "python",
   "pygments_lexer": "ipython3",
   "version": "3.12.2"
  }
 },
 "nbformat": 4,
 "nbformat_minor": 2
}
