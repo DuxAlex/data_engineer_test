{
 "cells": [
  {
   "cell_type": "code",
   "execution_count": 4,
   "metadata": {},
   "outputs": [],
   "source": [
    "import pandas as pd\n",
    "\n",
    "caminho_csv = '../raw_data/produtos.csv'\n",
    "\n",
    "# Carregar o DataFrame a partir do arquivo CSV\n",
    "df_produtos = pd.read_csv(caminho_csv)\n",
    "\n",
    "# caso nescessário descomente as linhas abaixo para ver os valores nulos \n",
    "#verificar valores nulos no dataframe\n",
    "# if df_produtos.isnull().any().any():\n",
    "#     print(\"O DataFrame contém valores nulos.\")\n",
    "# else:\n",
    "#     print(\"Não há valores nulos no DataFrame.\")\n",
    "\n",
    "# #verificar a quantidade de valores nulos por coluna\n",
    "# print(df_produtos.isnull().sum())\n",
    "# print('\\n')\n",
    "# #verificar a quantidade de valores nulos por linha\n",
    "# print(df_produtos[df_produtos.isnull().any(axis=1)])\n",
    "# print('\\n')\n",
    "# #verificar se há valores nulos no dataframe inteiro\n",
    "# print(df_produtos.isnull())\n",
    "\n"
   ]
  },
  {
   "cell_type": "code",
   "execution_count": 5,
   "metadata": {},
   "outputs": [],
   "source": [
    "# caso nescessário descomente as linhas abaixo para verificar valores duplicados\n",
    "# verificar arquivos duplicados\n",
    "# print(df_produtos.duplicated())\n",
    "# print(df_produtos[df_produtos.duplicated()])\n",
    "# print(df_produtos[df_produtos.duplicated(keep=False)])\n"
   ]
  },
  {
   "cell_type": "code",
   "execution_count": 6,
   "metadata": {},
   "outputs": [
    {
     "name": "stdout",
     "output_type": "stream",
     "text": [
      "      id_produto nome_produto  preco\n",
      "0              0          Per  28.28\n",
      "1              1          Him  77.68\n",
      "2              2         Site  18.40\n",
      "3              3     Remember  61.30\n",
      "4              4   Conference  23.75\n",
      "...          ...          ...    ...\n",
      "9995        9995     Marriage  84.79\n",
      "9996        9996     Campaign  10.90\n",
      "9997        9997          Key  11.68\n",
      "9998        9998          Cup  68.90\n",
      "9999        9999     Personal  73.40\n",
      "\n",
      "[9983 rows x 3 columns]\n"
     ]
    }
   ],
   "source": [
    "# 1. Remover linhas com valores duplicados\n",
    "df_produtos = df_produtos.drop_duplicates()\n",
    "\n",
    "# 2. Remover linhas com valores nulos\n",
    "df_produtos = df_produtos.dropna()\n",
    "\n",
    "# 3. Excluir as colunas 'descricao' e 'EAM'\n",
    "df_produtos = df_produtos.drop(columns=['Descrição', 'EAN'])\n",
    "\n",
    "# 4. Renomear as colunas 'id' e 'nome'\n",
    "df_produtos = df_produtos.rename(columns={'id': 'id_produto', 'Nome': 'nome_produto','Preço':'preco'})\n",
    "\n",
    "# 5. Transformar a coluna 'id_produto' para tipo INT\n",
    "df_produtos['id_produto'] = df_produtos['id_produto'].astype(int)\n",
    "\n",
    "# Exibir o DataFrame resultante\n",
    "print(df_produtos)\n"
   ]
  },
  {
   "cell_type": "code",
   "execution_count": 7,
   "metadata": {},
   "outputs": [
    {
     "name": "stdout",
     "output_type": "stream",
     "text": [
      "Arquivo sobrescrito como: produtos_final.csv\n"
     ]
    }
   ],
   "source": [
    "#Salvar o arquivo final\n",
    "#Definir o nome do arquivo de saída\n",
    "\n",
    "#from datetime import datetime\n",
    "#Nome do arquivo de saída com data no formato pt-BR (dd/mm/yyyy)\n",
    "#data_atual = datetime.now().strftime('%d-%m-%Y')  # Formato: DD-MM-YYYY\n",
    "#nome_arquivo_saida = f'produtos_final_{data_atual}.csv'\n",
    "\n",
    "import os\n",
    "\n",
    "\n",
    "nome_arquivo_saida = f'produtos_final.csv'\n",
    "caminho_arquivo = f'../final_data/{nome_arquivo_saida}'\n",
    "\n",
    "# Salvando o arquivo com o nome adequado\n",
    "# Verificar se o arquivo já existe\n",
    "if os.path.exists(caminho_arquivo):\n",
    "    resposta = 's'  # Automático substituindo 's'  # Automático substituindo 's'  # Automático substituindo 's'  # Automático substituindo 's'  # Automático substituindo 's'  # Automático substituindo 's'  # Automático substituindo 's'  # Automático substituindo input(f\"O arquivo '{nome_arquivo_saida}' já existe. Deseja sobrescrevê-lo? (s/n): \")\n",
    "    if resposta.lower() != 's':\n",
    "        print(\"Operação cancelada. O arquivo não foi salvo.\")\n",
    "    else:\n",
    "        # Salvando o arquivo, sobrescrevendo o existente\n",
    "        df_produtos.to_csv(caminho_arquivo, index=False)\n",
    "        print(f\"Arquivo sobrescrito como: {nome_arquivo_saida}\")\n",
    "else:\n",
    "    # Salvando o arquivo normalmente\n",
    "    df_produtos.to_csv(caminho_arquivo, index=False)\n",
    "    print(f\"Arquivo salvo como: {nome_arquivo_saida}\")\n"
   ]
  }
 ],
 "metadata": {
  "kernelspec": {
   "display_name": ".venv",
   "language": "python",
   "name": "python3"
  },
  "language_info": {
   "codemirror_mode": {
    "name": "ipython",
    "version": 3
   },
   "file_extension": ".py",
   "mimetype": "text/x-python",
   "name": "python",
   "nbconvert_exporter": "python",
   "pygments_lexer": "ipython3",
   "version": "3.12.2"
  }
 },
 "nbformat": 4,
 "nbformat_minor": 2
}
