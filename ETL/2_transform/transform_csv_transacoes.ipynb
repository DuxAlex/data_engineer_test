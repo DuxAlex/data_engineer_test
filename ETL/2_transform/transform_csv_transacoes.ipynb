{
 "cells": [
  {
   "cell_type": "code",
   "execution_count": null,
   "metadata": {},
   "outputs": [
    {
     "name": "stdout",
     "output_type": "stream",
     "text": [
      "Não há valores nulos no DataFrame.\n",
      "id_transacao      0\n",
      "id_cliente        0\n",
      "id_produto        0\n",
      "quantidade        0\n",
      "data_transacao    0\n",
      "dtype: int64\n",
      "\n",
      "\n",
      "Empty DataFrame\n",
      "Columns: [id_transacao, id_cliente, id_produto, quantidade, data_transacao]\n",
      "Index: []\n",
      "\n",
      "\n",
      "         id_transacao  id_cliente  id_produto  quantidade  data_transacao\n",
      "0               False       False       False       False           False\n",
      "1               False       False       False       False           False\n",
      "2               False       False       False       False           False\n",
      "3               False       False       False       False           False\n",
      "4               False       False       False       False           False\n",
      "...               ...         ...         ...         ...             ...\n",
      "2999995         False       False       False       False           False\n",
      "2999996         False       False       False       False           False\n",
      "2999997         False       False       False       False           False\n",
      "2999998         False       False       False       False           False\n",
      "2999999         False       False       False       False           False\n",
      "\n",
      "[3000000 rows x 5 columns]\n"
     ]
    }
   ],
   "source": [
    "#verificar valores nulos no dataframe\n",
    "import pandas as pd\n",
    "\n",
    "# Caminhos para os arquivos de transações\n",
    "caminhos_csv = [\n",
    "    '../raw_data/transacoes_1.csv',\n",
    "    '../raw_data/transacoes_2.csv',\n",
    "    '../raw_data/transacoes_3.csv'\n",
    "]\n",
    "\n",
    "# Lista para armazenar os DataFrames\n",
    "lista_transacoes = []\n",
    "\n",
    "# Lendo e armazenando cada DataFrame na lista\n",
    "for caminho in caminhos_csv:\n",
    "    df = pd.read_csv(caminho)\n",
    "    lista_transacoes.append(df)\n",
    "\n",
    "# Concatenando todos os DataFrames em um único DataFrame\n",
    "df_transacoes = pd.concat(lista_transacoes, ignore_index=True)\n",
    "\n",
    "# Agora você pode trabalhar com o DataFrame combinado\n",
    "#print(transacoes_combinadas)\n",
    "\n",
    "\n",
    "#df_transacoes = pd.read_csv(caminho_csv)\n",
    "#Verificar se a valores nulos \n",
    "if df_transacoes.isnull().any().any():\n",
    "    print(\"O DataFrame contém valores nulos.\")\n",
    "else:\n",
    "    print(\"Não há valores nulos no DataFrame.\")\n",
    "\n",
    "#verificar a quantidade de valores nulos por coluna\n",
    "print(df_transacoes.isnull().sum())\n",
    "print('\\n')\n",
    "#verificar a quantidade de valores nulos por linha\n",
    "print(df_transacoes[df_transacoes.isnull().any(axis=1)])\n",
    "print('\\n')\n",
    "#verificar se há valores nulos no dataframe inteiro\n",
    "print(df_transacoes.isnull())\n"
   ]
  },
  {
   "cell_type": "code",
   "execution_count": 4,
   "metadata": {},
   "outputs": [
    {
     "name": "stdout",
     "output_type": "stream",
     "text": [
      "0          False\n",
      "1          False\n",
      "2          False\n",
      "3          False\n",
      "4          False\n",
      "           ...  \n",
      "2999995    False\n",
      "2999996    False\n",
      "2999997    False\n",
      "2999998    False\n",
      "2999999    False\n",
      "Length: 3000000, dtype: bool\n",
      "Empty DataFrame\n",
      "Columns: [id_transacao, id_cliente, id_produto, quantidade, data_transacao]\n",
      "Index: []\n",
      "Empty DataFrame\n",
      "Columns: [id_transacao, id_cliente, id_produto, quantidade, data_transacao]\n",
      "Index: []\n"
     ]
    }
   ],
   "source": [
    "#verificar arquivos duplicados\n",
    "print(df_transacoes.duplicated())\n",
    "print(df_transacoes[df_transacoes.duplicated()])\n",
    "print(df_transacoes[df_transacoes.duplicated(keep=False)])\n"
   ]
  },
  {
   "cell_type": "code",
   "execution_count": null,
   "metadata": {},
   "outputs": [],
   "source": [
    "import os\n",
    "#from datetime import datetime\n",
    "\n",
    "#Salvar o arquivo final\n",
    "# Definir o nome do arquivo de saída\n",
    "\n",
    "#Nome do arquivo de saída com data no formato pt-BR (dd/mm/yyyy)\n",
    "#data_atual = datetime.now().strftime('%d-%m-%Y')  # Formato: DD-MM-YYYY\n",
    "#nome_arquivo_saida = f'transacoes_final_{data_atual}.csv'\n",
    "\n",
    "nome_arquivo_saida = f'transacoes_final.csv'\n",
    "caminho_arquivo = f'../final_data/{nome_arquivo_saida}'\n",
    "\n",
    "# Salvando o arquivo com o nome adequado\n",
    "# Verificar se o arquivo já existe\n",
    "if os.path.exists(caminho_arquivo):\n",
    "    resposta = input(f\"O arquivo '{nome_arquivo_saida}' já existe. Deseja sobrescrevê-lo? (s/n): \")\n",
    "    if resposta.lower() != 's':\n",
    "        print(\"Operação cancelada. O arquivo não foi salvo.\")\n",
    "    else:\n",
    "        # Salvando o arquivo, sobrescrevendo o existente\n",
    "        df_transacoes.to_csv(caminho_arquivo, index=False)\n",
    "        print(f\"Arquivo sobrescrito como: {nome_arquivo_saida}\")\n",
    "else:\n",
    "    # Salvando o arquivo normalmente\n",
    "    df_transacoes.to_csv(caminho_arquivo, index=False)\n",
    "    print(f\"Arquivo salvo como: {nome_arquivo_saida}\")\n"
   ]
  }
 ],
 "metadata": {
  "kernelspec": {
   "display_name": ".venv",
   "language": "python",
   "name": "python3"
  },
  "language_info": {
   "codemirror_mode": {
    "name": "ipython",
    "version": 3
   },
   "file_extension": ".py",
   "mimetype": "text/x-python",
   "name": "python",
   "nbconvert_exporter": "python",
   "pygments_lexer": "ipython3",
   "version": "3.12.2"
  }
 },
 "nbformat": 4,
 "nbformat_minor": 2
}
