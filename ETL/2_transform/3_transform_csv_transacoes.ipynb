{
 "cells": [
  {
   "cell_type": "code",
   "execution_count": 7,
   "metadata": {},
   "outputs": [
    {
     "name": "stdout",
     "output_type": "stream",
     "text": [
      "Não há valores nulos no DataFrame.\n",
      "id_transacao      0\n",
      "id_cliente        0\n",
      "id_produto        0\n",
      "quantidade        0\n",
      "data_transacao    0\n",
      "dtype: int64\n",
      "\n",
      "\n",
      "Empty DataFrame\n",
      "Columns: [id_transacao, id_cliente, id_produto, quantidade, data_transacao]\n",
      "Index: []\n",
      "\n",
      "\n",
      "         id_transacao  id_cliente  id_produto  quantidade  data_transacao\n",
      "0               False       False       False       False           False\n",
      "1               False       False       False       False           False\n",
      "2               False       False       False       False           False\n",
      "3               False       False       False       False           False\n",
      "4               False       False       False       False           False\n",
      "...               ...         ...         ...         ...             ...\n",
      "2999995         False       False       False       False           False\n",
      "2999996         False       False       False       False           False\n",
      "2999997         False       False       False       False           False\n",
      "2999998         False       False       False       False           False\n",
      "2999999         False       False       False       False           False\n",
      "\n",
      "[3000000 rows x 5 columns]\n"
     ]
    }
   ],
   "source": [
    "#verificar valores nulos no dataframe\n",
    "import pandas as pd\n",
    "\n",
    "# Caminhos para os arquivos de transações\n",
    "caminhos_csv = [\n",
    "    '../raw_data/transacoes_1.csv',\n",
    "    '../raw_data/transacoes_2.csv',\n",
    "    '../raw_data/transacoes_3.csv'\n",
    "]\n",
    "\n",
    "# Lista para armazenar os DataFrames\n",
    "lista_transacoes = []\n",
    "\n",
    "# Lendo e armazenando cada DataFrame na lista\n",
    "for caminho in caminhos_csv:\n",
    "    df = pd.read_csv(caminho)\n",
    "    lista_transacoes.append(df)\n",
    "\n",
    "# Concatenando todos os DataFrames em um único DataFrame\n",
    "df_transacoes = pd.concat(lista_transacoes, ignore_index=True)\n",
    "\n",
    "# Agora você pode trabalhar com o DataFrame combinado\n",
    "#print(transacoes_combinadas)\n",
    "\n",
    "\n",
    "#df_transacoes = pd.read_csv(caminho_csv)\n",
    "#Verificar se a valores nulos \n",
    "if df_transacoes.isnull().any().any():\n",
    "    print(\"O DataFrame contém valores nulos.\")\n",
    "else:\n",
    "    print(\"Não há valores nulos no DataFrame.\")\n",
    "\n",
    "#verificar a quantidade de valores nulos por coluna\n",
    "print(df_transacoes.isnull().sum())\n",
    "print('\\n')\n",
    "#verificar a quantidade de valores nulos por linha\n",
    "print(df_transacoes[df_transacoes.isnull().any(axis=1)])\n",
    "print('\\n')\n",
    "#verificar se há valores nulos no dataframe inteiro\n",
    "print(df_transacoes.isnull())\n"
   ]
  },
  {
   "cell_type": "code",
   "execution_count": 8,
   "metadata": {},
   "outputs": [
    {
     "name": "stdout",
     "output_type": "stream",
     "text": [
      "0          False\n",
      "1          False\n",
      "2          False\n",
      "3          False\n",
      "4          False\n",
      "           ...  \n",
      "2999995    False\n",
      "2999996    False\n",
      "2999997    False\n",
      "2999998    False\n",
      "2999999    False\n",
      "Length: 3000000, dtype: bool\n",
      "Empty DataFrame\n",
      "Columns: [id_transacao, id_cliente, id_produto, quantidade, data_transacao]\n",
      "Index: []\n",
      "Empty DataFrame\n",
      "Columns: [id_transacao, id_cliente, id_produto, quantidade, data_transacao]\n",
      "Index: []\n"
     ]
    }
   ],
   "source": [
    "#verificar arquivos duplicados\n",
    "print(df_transacoes.duplicated())\n",
    "print(df_transacoes[df_transacoes.duplicated()])\n",
    "print(df_transacoes[df_transacoes.duplicated(keep=False)])\n"
   ]
  },
  {
   "cell_type": "code",
   "execution_count": 9,
   "metadata": {},
   "outputs": [
    {
     "name": "stdout",
     "output_type": "stream",
     "text": [
      "         id_transacao  id_cliente  id_produto  quantidade       data_transacao\n",
      "0                   0       56892        2918           3  2023-05-25 22:44:59\n",
      "1                   1       57295        8889           4  2022-07-27 07:15:08\n",
      "2                   2       35364        4007           1  2020-01-29 06:56:21\n",
      "3                   3       62575         915           3  2021-10-17 14:47:41\n",
      "4                   4       89255        6966           1  2021-05-28 00:08:16\n",
      "...               ...         ...         ...         ...                  ...\n",
      "2999995       2999995       16092        7921           0  2020-11-22 23:11:59\n",
      "2999996       2999996       16370        6694           7  2024-05-17 20:46:03\n",
      "2999997       2999997       49313        7696           8  2021-10-13 16:07:39\n",
      "2999998       2999998       94586        1912           4  2024-04-24 03:11:38\n",
      "2999999       2999999       96259        5256           0  2023-12-12 08:54:26\n",
      "\n",
      "[3000000 rows x 5 columns]\n"
     ]
    }
   ],
   "source": [
    "# 1. Remover linhas com valores duplicados\n",
    "df_transacoes = df_transacoes.drop_duplicates()\n",
    "\n",
    "# 2. Remover linhas com valores nulos\n",
    "df_transacoes = df_transacoes.dropna()\n",
    "\n",
    "# Exibir o DataFrame resultante\n",
    "print(df_transacoes)"
   ]
  },
  {
   "cell_type": "code",
   "execution_count": 10,
   "metadata": {},
   "outputs": [
    {
     "name": "stdout",
     "output_type": "stream",
     "text": [
      "Transações filtradas (apenas com produtos existentes):\n",
      "         id_transacao  id_cliente  id_produto  quantidade       data_transacao\n",
      "0                   0       56892        2918           3  2023-05-25 22:44:59\n",
      "1                   1       57295        8889           4  2022-07-27 07:15:08\n",
      "2                   2       35364        4007           1  2020-01-29 06:56:21\n",
      "3                   3       62575         915           3  2021-10-17 14:47:41\n",
      "4                   4       89255        6966           1  2021-05-28 00:08:16\n",
      "...               ...         ...         ...         ...                  ...\n",
      "2999995       2999995       16092        7921           0  2020-11-22 23:11:59\n",
      "2999996       2999996       16370        6694           7  2024-05-17 20:46:03\n",
      "2999997       2999997       49313        7696           8  2021-10-13 16:07:39\n",
      "2999998       2999998       94586        1912           4  2024-04-24 03:11:38\n",
      "2999999       2999999       96259        5256           0  2023-12-12 08:54:26\n",
      "\n",
      "[2994805 rows x 5 columns]\n",
      "Os seguintes IDs de produtos foram removidos: {9280, 2532, 5892, 5833, 8234, 6637, 3791, 4304, 7055, 3762, 628, 6134, 1945, 5306, 2939, 6908, 8606}\n"
     ]
    }
   ],
   "source": [
    "# Carregar os dados dos arquivos CSV\n",
    "#caminho_csv_transacoes = '../final_data/transacoes_final.csv'\n",
    "caminho_csv_produtos = '../final_data/produtos_final.csv'\n",
    "\n",
    "df_transacoes_inserir = df_transacoes  # CSV com os IDs que você está tentando inserir\n",
    "df_produtos_existentes = pd.read_csv(caminho_csv_produtos)  # CSV com os IDs de produtos existentes\n",
    "\n",
    "# os CSVs tem uma coluna chamada 'id_produto'\n",
    "ids_existentes = df_produtos_existentes['id_produto'].unique()  # IDs que já existem\n",
    "\n",
    "# Filtrar o DataFrame de transações para manter apenas os IDs que existem\n",
    "df_transacoes_filtradas = df_transacoes_inserir[df_transacoes_inserir['id_produto'].isin(ids_existentes)]\n",
    "\n",
    "# Identificar os IDs que foram removidos\n",
    "ids_removidos = set(df_transacoes_inserir['id_produto']) - set(df_transacoes_filtradas['id_produto'])\n",
    "\n",
    "# Exibir o DataFrame filtrado\n",
    "print(\"Transações filtradas (apenas com produtos existentes):\")\n",
    "print(df_transacoes_filtradas)\n",
    "df_transacoes = df_transacoes_filtradas\n",
    "\n",
    "# Exibir os IDs que foram removidos\n",
    "if ids_removidos:\n",
    "    print(f\"Os seguintes IDs de produtos foram removidos: {ids_removidos}\")\n",
    "else:\n",
    "    print(\"Nenhum ID de produto foi removido.\")"
   ]
  },
  {
   "cell_type": "code",
   "execution_count": 15,
   "metadata": {},
   "outputs": [
    {
     "name": "stdout",
     "output_type": "stream",
     "text": [
      "Transações filtradas (apenas com cliente existentes):\n",
      "         id_transacao  id_cliente  id_produto  quantidade       data_transacao\n",
      "0                   0       56892        2918           3  2023-05-25 22:44:59\n",
      "1                   1       57295        8889           4  2022-07-27 07:15:08\n",
      "2                   2       35364        4007           1  2020-01-29 06:56:21\n",
      "3                   3       62575         915           3  2021-10-17 14:47:41\n",
      "4                   4       89255        6966           1  2021-05-28 00:08:16\n",
      "...               ...         ...         ...         ...                  ...\n",
      "2999995       2999995       16092        7921           0  2020-11-22 23:11:59\n",
      "2999996       2999996       16370        6694           7  2024-05-17 20:46:03\n",
      "2999997       2999997       49313        7696           8  2021-10-13 16:07:39\n",
      "2999998       2999998       94586        1912           4  2024-04-24 03:11:38\n",
      "2999999       2999999       96259        5256           0  2023-12-12 08:54:26\n",
      "\n",
      "[2994778 rows x 5 columns]\n",
      "Os seguintes IDs de produtos foram removidos: {0}\n"
     ]
    }
   ],
   "source": [
    "# Carregar os dados dos arquivos CSV\n",
    "#caminho_csv_transacoes = '../final_data/transacoes_final.csv'\n",
    "caminho_csv_cliente = '../final_data/cliente_final.csv'\n",
    "\n",
    "df_transacoes_inserir = df_transacoes  # CSV com os IDs que você está tentando inserir\n",
    "df_cliente_existentes = pd.read_csv(caminho_csv_cliente)  # CSV com os IDs de cliente existentes\n",
    "\n",
    "# os CSVs tem uma coluna chamada 'id_cliente'\n",
    "ids_existentes = df_cliente_existentes['id_cliente'].unique()  # IDs que já existem\n",
    "\n",
    "# Filtrar o DataFrame de transações para manter apenas os IDs que existem\n",
    "df_transacoes_filtradas = df_transacoes_inserir[df_transacoes_inserir['id_cliente'].isin(ids_existentes)]\n",
    "\n",
    "# Identificar os IDs que foram removidos\n",
    "ids_removidos = set(df_transacoes_inserir['id_cliente']) - set(df_transacoes_filtradas['id_cliente'])\n",
    "\n",
    "# Exibir o DataFrame filtrado\n",
    "print(\"Transações filtradas (apenas com cliente existentes):\")\n",
    "print(df_transacoes_filtradas)\n",
    "df_transacoes = df_transacoes_filtradas\n",
    "\n",
    "# Exibir os IDs que foram removidos\n",
    "if ids_removidos:\n",
    "    print(f\"Os seguintes IDs de produtos foram removidos: {ids_removidos}\")\n",
    "else:\n",
    "    print(\"Nenhum ID de produto foi removido.\")"
   ]
  },
  {
   "cell_type": "code",
   "execution_count": 16,
   "metadata": {},
   "outputs": [
    {
     "name": "stdout",
     "output_type": "stream",
     "text": [
      "Arquivo sobrescrito como: transacoes_final.csv\n"
     ]
    }
   ],
   "source": [
    "#Salvar o arquivo final\n",
    "# Definir o nome do arquivo de saída\n",
    "#from datetime import datetime\n",
    "\n",
    "#Nome do arquivo de saída com data no formato pt-BR (dd/mm/yyyy)\n",
    "#data_atual = datetime.now().strftime('%d-%m-%Y')  # Formato: DD-MM-YYYY\n",
    "#nome_arquivo_saida = f'transacoes_final_{data_atual}.csv'\n",
    "\n",
    "import os\n",
    "\n",
    "nome_arquivo_saida = f'transacoes_final.csv'\n",
    "caminho_arquivo = f'../final_data/{nome_arquivo_saida}'\n",
    "\n",
    "# Salvando o arquivo com o nome adequado\n",
    "# Verificar se o arquivo já existe\n",
    "if os.path.exists(caminho_arquivo):\n",
    "    resposta = input(f\"O arquivo '{nome_arquivo_saida}' já existe. Deseja sobrescrevê-lo? (s/n): \")\n",
    "    if resposta.lower() != 's':\n",
    "        print(\"Operação cancelada. O arquivo não foi salvo.\")\n",
    "    else:\n",
    "        # Salvando o arquivo, sobrescrevendo o existente\n",
    "        df_transacoes.to_csv(caminho_arquivo, index=False)\n",
    "        print(f\"Arquivo sobrescrito como: {nome_arquivo_saida}\")\n",
    "else:\n",
    "    # Salvando o arquivo normalmente\n",
    "    df_transacoes.to_csv(caminho_arquivo, index=False)\n",
    "    print(f\"Arquivo salvo como: {nome_arquivo_saida}\")\n"
   ]
  }
 ],
 "metadata": {
  "kernelspec": {
   "display_name": ".venv",
   "language": "python",
   "name": "python3"
  },
  "language_info": {
   "codemirror_mode": {
    "name": "ipython",
    "version": 3
   },
   "file_extension": ".py",
   "mimetype": "text/x-python",
   "name": "python",
   "nbconvert_exporter": "python",
   "pygments_lexer": "ipython3",
   "version": "3.12.2"
  }
 },
 "nbformat": 4,
 "nbformat_minor": 2
}
