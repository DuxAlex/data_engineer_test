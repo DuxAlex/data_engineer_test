{
 "cells": [
  {
   "cell_type": "code",
   "execution_count": null,
   "metadata": {},
   "outputs": [],
   "source": [
    "import pandas as pd\n",
    "\n",
    "# Carregar os dados das transações\n",
    "caminho_csv_transacoes = '../final_data/transacoes_final.csv'\n",
    "df_transacoes = pd.read_csv(caminho_csv_transacoes)\n",
    "\n",
    "# Supondo que o DataFrame tenha as colunas: 'id_cliente', 'id_produto', 'quantidade', 'preco'\n",
    "\n",
    "# 1. Calcular a receita total por cliente\n",
    "df_transacoes['receita'] = df_transacoes['quantidade'] * df_transacoes['preco']\n",
    "receita_por_cliente = df_transacoes.groupby('id_cliente')['receita'].sum().reset_index()\n",
    "\n",
    "# 2. Calcular o número total de transações por cliente\n",
    "transacoes_por_cliente = df_transacoes.groupby('id_cliente')['id_produto'].count().reset_index(name='num_transacoes')\n",
    "\n",
    "# 3. Encontrar o produto mais comprado por cliente\n",
    "# Primeiro, contar as compras por cliente e produto\n",
    "compras_por_cliente_produto = df_transacoes.groupby(['id_cliente', 'id_produto'])['quantidade'].sum().reset_index()\n",
    "\n",
    "# Encontrar o produto mais comprado por cliente\n",
    "produto_mais_comprado = compras_por_cliente_produto.loc[compras_por_cliente_produto.groupby('id_cliente')['quantidade'].idxmax()]\n",
    "\n",
    "# Renomear a coluna para facilitar a compreensão\n",
    "produto_mais_comprado = produto_mais_comprado.rename(columns={'id_produto': 'produto_mais_comprado'})\n",
    "\n",
    "# 4. Unir todas as informações em uma tabela agregada\n",
    "tabela_agregada = receita_por_cliente.merge(transacoes_por_cliente, on='id_cliente')\n",
    "tabela_agregada = tabela_agregada.merge(produto_mais_comprado[['id_cliente', 'produto_mais_comprado']], on='id_cliente')\n",
    "\n",
    "# Exibir a tabela agregada\n",
    "print(tabela_agregada)"
   ]
  }
 ],
 "metadata": {
  "kernelspec": {
   "display_name": ".venv",
   "language": "python",
   "name": "python3"
  },
  "language_info": {
   "name": "python",
   "version": "3.12.2"
  }
 },
 "nbformat": 4,
 "nbformat_minor": 2
}
