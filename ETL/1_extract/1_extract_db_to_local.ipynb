{
 "cells": [
  {
   "cell_type": "code",
   "execution_count": 2,
   "metadata": {},
   "outputs": [
    {
     "name": "stdout",
     "output_type": "stream",
     "text": [
      "Exportando dados da tabela: clientes\n",
      "Dados exportados para ../data_from_db/clientes.csv\n",
      "Exportando dados da tabela: total_por_cliente\n",
      "Dados exportados para ../data_from_db/total_por_cliente.csv\n",
      "Exportando dados da tabela: produtos\n",
      "Dados exportados para ../data_from_db/produtos.csv\n",
      "Exportando dados da tabela: transacoes\n",
      "Dados exportados para ../data_from_db/transacoes.csv\n",
      "Exportação concluída!\n"
     ]
    }
   ],
   "source": [
    "import psycopg2\n",
    "import csv\n",
    "import os\n",
    "\n",
    "# Configurações do banco de dados\n",
    "DB_CONFIG = {\n",
    "    \"dbname\": \"magazord\",\n",
    "    \"user\": \"magazord_user\",\n",
    "    \"password\": \"magazord\",\n",
    "    \"host\": \"localhost\",\n",
    "    \"port\": 5432,\n",
    "}\n",
    "\n",
    "# Pasta para salvar os CSVs\n",
    "OUTPUT_FOLDER = \"../data_from_db\"\n",
    "\n",
    "def extrair_dados():\n",
    "    try:\n",
    "        # Conectar ao banco de dados\n",
    "        conn = psycopg2.connect(**DB_CONFIG)\n",
    "        cursor = conn.cursor()\n",
    "\n",
    "        # Obter os nomes de todas as tabelas\n",
    "        cursor.execute(\"\"\"\n",
    "            SELECT table_name \n",
    "            FROM information_schema.tables \n",
    "            WHERE table_schema = 'public'\n",
    "        \"\"\")\n",
    "        tabelas = [tabela[0] for tabela in cursor.fetchall()]\n",
    "\n",
    "        # Criar pasta para os CSVs\n",
    "        os.makedirs(OUTPUT_FOLDER, exist_ok=True)\n",
    "\n",
    "        # Iterar sobre cada tabela e exportar os dados\n",
    "        for tabela in tabelas:\n",
    "            print(f\"Exportando dados da tabela: {tabela}\")\n",
    "            cursor.execute(f\"SELECT * FROM {tabela}\")\n",
    "            colunas = [desc[0] for desc in cursor.description]\n",
    "            registros = cursor.fetchall()\n",
    "\n",
    "            # Salvar dados em um arquivo CSV\n",
    "            arquivo_csv = os.path.join(OUTPUT_FOLDER, f\"{tabela}.csv\")\n",
    "            with open(arquivo_csv, mode=\"w\", newline=\"\", encoding=\"utf-8\") as csv_file:\n",
    "                writer = csv.writer(csv_file)\n",
    "                writer.writerow(colunas)  # Escrever cabeçalho\n",
    "                writer.writerows(registros)  # Escrever os dados\n",
    "\n",
    "            print(f\"Dados exportados para {arquivo_csv}\")\n",
    "\n",
    "        cursor.close()\n",
    "        conn.close()\n",
    "        print(\"Exportação concluída!\")\n",
    "\n",
    "    except Exception as e:\n",
    "        print(f\"Erro: {e}\")\n",
    "\n",
    "if __name__ == \"__main__\":\n",
    "    extrair_dados()\n"
   ]
  }
 ],
 "metadata": {
  "kernelspec": {
   "display_name": ".venv",
   "language": "python",
   "name": "python3"
  },
  "language_info": {
   "codemirror_mode": {
    "name": "ipython",
    "version": 3
   },
   "file_extension": ".py",
   "mimetype": "text/x-python",
   "name": "python",
   "nbconvert_exporter": "python",
   "pygments_lexer": "ipython3",
   "version": "3.12.2"
  }
 },
 "nbformat": 4,
 "nbformat_minor": 2
}
