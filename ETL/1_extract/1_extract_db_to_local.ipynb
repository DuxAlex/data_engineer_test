{
 "cells": [
  {
   "cell_type": "code",
   "execution_count": 2,
   "metadata": {},
   "outputs": [
    {
     "name": "stdout",
     "output_type": "stream",
     "text": [
      "     nome sobrenome                     email        telefone  id\n",
      "0  AALINE      ZYON      AALINEZYON@gmail.com  (23) 8354-9059   1\n",
      "1   AARAO   ZUZIANE  AARAOZUZIANE@outlook.com  (18) 3183-4770   2\n",
      "2   AARON      ZUZI       AARONZUZI@gmail.com  (22) 6077-6114   3\n",
      "3     ABA    ZUZETE       ABAZUZETE@yahoo.com  (42) 2127-7981   4\n",
      "4   ABADE    ZUZANE     ABADEZUZANE@terra.com  (47) 5908-0457   5\n"
     ]
    }
   ],
   "source": [
    "import pandas as pd\n",
    "\n",
    "# Caminho do arquivo CSV Cliente\n",
    "caminho_csv_cliente = '../raw_data/cliente.csv'\n",
    "\n",
    "# Lendo o arquivo CSV\n",
    "df_cliente = pd.read_csv(caminho_csv_cliente, delimiter=',')\n",
    "\n",
    "# Exibindo as primeiras linhas do DataFrame cliente\n",
    "print(df_cliente.head())\n"
   ]
  },
  {
   "cell_type": "code",
   "execution_count": 3,
   "metadata": {},
   "outputs": [
    {
     "name": "stdout",
     "output_type": "stream",
     "text": [
      "   id        Nome                                          Descrição  Preço  \\\n",
      "0   0         Per  Industry argue program professor them describe...  28.28   \n",
      "1   1         Him  Thing through time left each key message prote...  77.68   \n",
      "2   2        Site  Line the lay above south energy charge America...  18.40   \n",
      "3   3    Remember        Boy edge participant take win risk student.  61.30   \n",
      "4   4  Conference             Live report side fall player response.  23.75   \n",
      "\n",
      "             EAN  \n",
      "0  5366679271277  \n",
      "1   553345077430  \n",
      "2   832306503721  \n",
      "3  4676945164747  \n",
      "4  3368569080299  \n"
     ]
    }
   ],
   "source": [
    "# Caminho do arquivo CSV produtos\n",
    "caminho_csv_cliente = '../raw_data/produtos.csv'\n",
    "\n",
    "# Lendo o arquivo CSV\n",
    "df_produtos = pd.read_csv(caminho_csv_cliente, delimiter=',')\n",
    "\n",
    "# Exibindo as primeiras linhas do DataFrame produtos\n",
    "print(df_produtos.head())\n"
   ]
  },
  {
   "cell_type": "code",
   "execution_count": 4,
   "metadata": {},
   "outputs": [
    {
     "data": {
      "application/vnd.microsoft.datawrangler.viewer.v0+json": {
       "columns": [
        {
         "name": "index",
         "rawType": "int64",
         "type": "integer"
        },
        {
         "name": "id",
         "rawType": "int64",
         "type": "integer"
        },
        {
         "name": "Nome",
         "rawType": "object",
         "type": "string"
        },
        {
         "name": "Descrição",
         "rawType": "object",
         "type": "string"
        },
        {
         "name": "Preço",
         "rawType": "float64",
         "type": "float"
        },
        {
         "name": "EAN",
         "rawType": "int64",
         "type": "integer"
        }
       ],
       "conversionMethod": "pd.DataFrame",
       "ref": "9cf2c7d7-35a6-489a-a170-806a12d022e1",
       "rows": [
        [
         "0",
         "0",
         "Per",
         "Industry argue program professor them describe modern involve method kid human human step.",
         "28.28",
         "5366679271277"
        ],
        [
         "1",
         "1",
         "Him",
         "Thing through time left each key message protect kind outside charge.",
         "77.68",
         "553345077430"
        ],
        [
         "2",
         "2",
         "Site",
         "Line the lay above south energy charge American red.",
         "18.4",
         "832306503721"
        ],
        [
         "3",
         "3",
         "Remember",
         "Boy edge participant take win risk student.",
         "61.3",
         "4676945164747"
        ],
        [
         "4",
         "4",
         "Conference",
         "Live report side fall player response.",
         "23.75",
         "3368569080299"
        ]
       ],
       "shape": {
        "columns": 5,
        "rows": 5
       }
      },
      "text/html": [
       "<div>\n",
       "<style scoped>\n",
       "    .dataframe tbody tr th:only-of-type {\n",
       "        vertical-align: middle;\n",
       "    }\n",
       "\n",
       "    .dataframe tbody tr th {\n",
       "        vertical-align: top;\n",
       "    }\n",
       "\n",
       "    .dataframe thead th {\n",
       "        text-align: right;\n",
       "    }\n",
       "</style>\n",
       "<table border=\"1\" class=\"dataframe\">\n",
       "  <thead>\n",
       "    <tr style=\"text-align: right;\">\n",
       "      <th></th>\n",
       "      <th>id</th>\n",
       "      <th>Nome</th>\n",
       "      <th>Descrição</th>\n",
       "      <th>Preço</th>\n",
       "      <th>EAN</th>\n",
       "    </tr>\n",
       "  </thead>\n",
       "  <tbody>\n",
       "    <tr>\n",
       "      <th>0</th>\n",
       "      <td>0</td>\n",
       "      <td>Per</td>\n",
       "      <td>Industry argue program professor them describe...</td>\n",
       "      <td>28.28</td>\n",
       "      <td>5366679271277</td>\n",
       "    </tr>\n",
       "    <tr>\n",
       "      <th>1</th>\n",
       "      <td>1</td>\n",
       "      <td>Him</td>\n",
       "      <td>Thing through time left each key message prote...</td>\n",
       "      <td>77.68</td>\n",
       "      <td>553345077430</td>\n",
       "    </tr>\n",
       "    <tr>\n",
       "      <th>2</th>\n",
       "      <td>2</td>\n",
       "      <td>Site</td>\n",
       "      <td>Line the lay above south energy charge America...</td>\n",
       "      <td>18.40</td>\n",
       "      <td>832306503721</td>\n",
       "    </tr>\n",
       "    <tr>\n",
       "      <th>3</th>\n",
       "      <td>3</td>\n",
       "      <td>Remember</td>\n",
       "      <td>Boy edge participant take win risk student.</td>\n",
       "      <td>61.30</td>\n",
       "      <td>4676945164747</td>\n",
       "    </tr>\n",
       "    <tr>\n",
       "      <th>4</th>\n",
       "      <td>4</td>\n",
       "      <td>Conference</td>\n",
       "      <td>Live report side fall player response.</td>\n",
       "      <td>23.75</td>\n",
       "      <td>3368569080299</td>\n",
       "    </tr>\n",
       "  </tbody>\n",
       "</table>\n",
       "</div>"
      ],
      "text/plain": [
       "   id        Nome                                          Descrição  Preço  \\\n",
       "0   0         Per  Industry argue program professor them describe...  28.28   \n",
       "1   1         Him  Thing through time left each key message prote...  77.68   \n",
       "2   2        Site  Line the lay above south energy charge America...  18.40   \n",
       "3   3    Remember        Boy edge participant take win risk student.  61.30   \n",
       "4   4  Conference             Live report side fall player response.  23.75   \n",
       "\n",
       "             EAN  \n",
       "0  5366679271277  \n",
       "1   553345077430  \n",
       "2   832306503721  \n",
       "3  4676945164747  \n",
       "4  3368569080299  "
      ]
     },
     "execution_count": 4,
     "metadata": {},
     "output_type": "execute_result"
    }
   ],
   "source": [
    "df_produtos.head()"
   ]
  }
 ],
 "metadata": {
  "kernelspec": {
   "display_name": ".venv",
   "language": "python",
   "name": "python3"
  },
  "language_info": {
   "codemirror_mode": {
    "name": "ipython",
    "version": 3
   },
   "file_extension": ".py",
   "mimetype": "text/x-python",
   "name": "python",
   "nbconvert_exporter": "python",
   "pygments_lexer": "ipython3",
   "version": "3.12.2"
  }
 },
 "nbformat": 4,
 "nbformat_minor": 2
}
